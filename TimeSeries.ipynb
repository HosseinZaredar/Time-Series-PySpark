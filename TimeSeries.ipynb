{
 "cells": [
  {
   "cell_type": "markdown",
   "id": "14bc2885",
   "metadata": {},
   "source": [
    "### Creating PySpark Session"
   ]
  },
  {
   "cell_type": "code",
   "execution_count": 1,
   "id": "bf07da7b",
   "metadata": {},
   "outputs": [],
   "source": [
    "from pyspark.sql import SparkSession"
   ]
  },
  {
   "cell_type": "code",
   "execution_count": 2,
   "id": "51b44705",
   "metadata": {},
   "outputs": [],
   "source": [
    "spark = SparkSession.builder.appName('Time-Series').getOrCreate()"
   ]
  },
  {
   "cell_type": "markdown",
   "id": "298190d2",
   "metadata": {},
   "source": [
    "### Loading Data"
   ]
  },
  {
   "cell_type": "code",
   "execution_count": 3,
   "id": "43adaba6",
   "metadata": {},
   "outputs": [],
   "source": [
    "df = spark.read.csv('train.csv', header=True, inferSchema=True)"
   ]
  },
  {
   "cell_type": "code",
   "execution_count": 9,
   "id": "57f5f1cd",
   "metadata": {},
   "outputs": [
    {
     "name": "stdout",
     "output_type": "stream",
     "text": [
      "root\n",
      " |-- id: integer (nullable = true)\n",
      " |-- date: string (nullable = true)\n",
      " |-- store_nbr: integer (nullable = true)\n",
      " |-- family: string (nullable = true)\n",
      " |-- sales: double (nullable = true)\n",
      " |-- onpromotion: integer (nullable = true)\n",
      "\n"
     ]
    }
   ],
   "source": [
    "df.printSchema()"
   ]
  },
  {
   "cell_type": "code",
   "execution_count": 7,
   "id": "2edba690",
   "metadata": {},
   "outputs": [
    {
     "name": "stdout",
     "output_type": "stream",
     "text": [
      "+---+----------+---------+------------+-----+-----------+\n",
      "| id|      date|store_nbr|      family|sales|onpromotion|\n",
      "+---+----------+---------+------------+-----+-----------+\n",
      "|  0|2013-01-01|        1|  AUTOMOTIVE|  0.0|          0|\n",
      "|  1|2013-01-01|        1|   BABY CARE|  0.0|          0|\n",
      "|  2|2013-01-01|        1|      BEAUTY|  0.0|          0|\n",
      "|  3|2013-01-01|        1|   BEVERAGES|  0.0|          0|\n",
      "|  4|2013-01-01|        1|       BOOKS|  0.0|          0|\n",
      "|  5|2013-01-01|        1|BREAD/BAKERY|  0.0|          0|\n",
      "|  6|2013-01-01|        1| CELEBRATION|  0.0|          0|\n",
      "|  7|2013-01-01|        1|    CLEANING|  0.0|          0|\n",
      "|  8|2013-01-01|        1|       DAIRY|  0.0|          0|\n",
      "|  9|2013-01-01|        1|        DELI|  0.0|          0|\n",
      "+---+----------+---------+------------+-----+-----------+\n",
      "only showing top 10 rows\n",
      "\n"
     ]
    }
   ],
   "source": [
    "df.show(10)"
   ]
  },
  {
   "cell_type": "markdown",
   "id": "5f96c5f3",
   "metadata": {},
   "source": [
    "### Analysing Average Sales Throught The Years"
   ]
  },
  {
   "cell_type": "code",
   "execution_count": 40,
   "id": "b97aa55e",
   "metadata": {},
   "outputs": [],
   "source": [
    "import matplotlib.pyplot as plt\n",
    "%matplotlib inline\n",
    "import numpy as np"
   ]
  },
  {
   "cell_type": "code",
   "execution_count": 28,
   "id": "1d331619",
   "metadata": {},
   "outputs": [],
   "source": [
    "avg_df = df.groupBy('date').mean('sales').sort('date')"
   ]
  },
  {
   "cell_type": "code",
   "execution_count": 24,
   "id": "99608781",
   "metadata": {},
   "outputs": [],
   "source": [
    "filt = avg_df['date'] >= '2017-01-01'\n",
    "avg_df = avg_df.filter(filt)"
   ]
  },
  {
   "cell_type": "code",
   "execution_count": 29,
   "id": "08b8a4be",
   "metadata": {},
   "outputs": [
    {
     "name": "stdout",
     "output_type": "stream",
     "text": [
      "+----------+------------------+\n",
      "|      date|        avg(sales)|\n",
      "+----------+------------------+\n",
      "|2013-01-01|1.4094382710437712|\n",
      "|2013-01-02| 278.3908069270483|\n",
      "|2013-01-03|202.84019703928166|\n",
      "|2013-01-04|198.91115437300778|\n",
      "|2013-01-05| 267.8732442362513|\n",
      "|2013-01-06| 291.6360275465768|\n",
      "|2013-01-07|188.62110048597077|\n",
      "|2013-01-08|178.64634005667787|\n",
      "|2013-01-09|169.77037543097634|\n",
      "|2013-01-10|145.33221270987647|\n",
      "+----------+------------------+\n",
      "only showing top 10 rows\n",
      "\n"
     ]
    }
   ],
   "source": [
    "avg_df.show(10)"
   ]
  },
  {
   "cell_type": "code",
   "execution_count": 55,
   "id": "bf7a0dbb",
   "metadata": {},
   "outputs": [
    {
     "data": {
      "image/png": "[encoded data removed]",
      "text/plain": [
       "<Figure size 432x288 with 1 Axes>"
      ]
     },
     "metadata": {
      "needs_background": "light"
     },
     "output_type": "display_data"
    }
   ],
   "source": [
    "avg_df.toPandas().plot();"
   ]
  }
 ],
 "metadata": {
  "kernelspec": {
   "display_name": "3.9.4",
   "language": "python",
   "name": "3.9.4"
  },
  "language_info": {
   "codemirror_mode": {
    "name": "ipython",
    "version": 3
   },
   "file_extension": ".py",
   "mimetype": "text/x-python",
   "name": "python",
   "nbconvert_exporter": "python",
   "pygments_lexer": "ipython3",
   "version": "3.9.4"
  }
 },
 "nbformat": 4,
 "nbformat_minor": 5
}
